{
 "cells": [
  {
   "cell_type": "markdown",
   "source": [
    "# Tutorial 1 - Artificial Pigeon Brain\n",
    "\n",
    "## Last Lecture\n",
    "* Biological Neural Networks (BNNs)\n",
    "* Artificial Neurons Networks (ANNs)\n",
    "* Forward Pass\n",
    "* Activation Functions\n",
    "* Mean Squared Error and Cross-Entropy\n",
    "* Gradient Descent and Backpropagation\n",
    "* Nonlinearity\n",
    "\n",
    "Sample code:"
   ],
   "metadata": {
    "colab_type": "text",
    "id": "t_7PSrzbdQbT"
   }
  },
  {
   "cell_type": "markdown",
   "source": [
    "#### Example: 1-layer ANN with MSE and Gradient Descent\n"
   ],
   "metadata": {
    "colab_type": "text",
    "id": "5vk1HIgTbbKt"
   }
  },
  {
   "cell_type": "code",
   "execution_count": 1,
   "source": [
    "import math\n",
    "\n",
    "# data (first column is the bias term)\n",
    "x = [[1, 0.1,-0.2], \n",
    "     [1,-0.1, 0.9], \n",
    "     [1, 1.2, 0.1], \n",
    "     [1, 1.1, 1.5]]\n",
    "\n",
    "# labels (desired output)\n",
    "t = [0, 0, 0, 1]\n",
    "\n",
    "# initial weights\n",
    "w = [1, -1, 1]\n",
    "\n",
    "iterations = 50\n",
    "learning = 10\n",
    "\n",
    "def simple_ann(x, w, t, iterations, learning):\n",
    "\n",
    "    E = []\n",
    "    \n",
    "    #iterate over epochs\n",
    "    for ii in range(iterations):\n",
    "        err = [] \n",
    "        y = []\n",
    "        #iterate over all the samples x\n",
    "        for n in range(len(x)):\n",
    "            v = 0\n",
    "            # compute w.x\n",
    "            for p in range(len(x[0])):\n",
    "                v = v + x[n][p]*w[p]\n",
    "            \n",
    "            #sigmoidal activation    \n",
    "            y.append(1 / (1 + math.e**(-v))) \n",
    "            \n",
    "            #MSE classification error\n",
    "            err.append((y[n]-t[n])**2)\n",
    "            \n",
    "            #gradient descent to compute new weights\n",
    "            for p in range(len(w)):\n",
    "                d = x[n][p]*(y[n]-t[n])*(1-y[n])*(y[n])\n",
    "                w[p] = w[p] - learning*d\n",
    "                \n",
    "        #sum up classification error\n",
    "        E.append(sum(err)/len(x))\n",
    "    \n",
    "    return (y, w, E)\n",
    "\n",
    "(y, w, E) = simple_ann(x, w, t, iterations, learning)"
   ],
   "outputs": [],
   "metadata": {
    "colab": {},
    "colab_type": "code",
    "id": "8tmvmSv7bSvm"
   }
  },
  {
   "cell_type": "code",
   "execution_count": 2,
   "source": [
    "print(y)"
   ],
   "outputs": [
    {
     "output_type": "stream",
     "name": "stdout",
     "text": [
      "[0.0006555859880223744, 0.052128479309599574, 0.04486688739303947, 0.9484229735074757]\n"
     ]
    }
   ],
   "metadata": {
    "colab": {},
    "colab_type": "code",
    "id": "TncfaRORb5tN"
   }
  },
  {
   "cell_type": "markdown",
   "source": [
    "#### Example: 1-layer ANN with Cross-Entropy and Gradient Descent"
   ],
   "metadata": {
    "colab_type": "text",
    "id": "Sv7VdSNxcFWT"
   }
  },
  {
   "cell_type": "code",
   "execution_count": 3,
   "source": [
    "import math\n",
    "\n",
    "# data (first column is the bias term)\n",
    "x = [[1, 0.1,-0.2], \n",
    "     [1,-0.1, 0.9], \n",
    "     [1, 1.2, 0.1], \n",
    "     [1, 1.1, 1.5]]\n",
    "\n",
    "# labels (desired output)\n",
    "t = [0, 0, 0, 1]\n",
    "\n",
    "# initial weights\n",
    "w = [1, -1, 1]\n",
    "\n",
    "iterations = 50\n",
    "learning = 10\n",
    "\n",
    "def simple_ann(x, w, t, iterations, learning):\n",
    "\n",
    "    E = []\n",
    "    \n",
    "    #iterate over epochs\n",
    "    for ii in range(iterations):\n",
    "        err = [] \n",
    "        y = []\n",
    "        \n",
    "        #iterate over all the samples x\n",
    "        for n in range(len(x)):\n",
    "            v = 0\n",
    "            \n",
    "            #compute w.x\n",
    "            for p in range(len(x[0])):\n",
    "                v = v + x[n][p]*w[p]\n",
    "            \n",
    "            #sigmoidal activation\n",
    "            y.append(1 / (1 + math.e**(-v))) \n",
    "            \n",
    "            #cross-entropy classification error\n",
    "            err.append(-t[n]*math.log(y[n]) - (1-t[n])*math.log(1-y[n]))\n",
    "\n",
    "            #gradient descent to compute new weights\n",
    "            for p in range(len(w)):\n",
    "                d = x[n][p]*(y[n]-t[n]) #cross_entropy\n",
    "                w[p] = w[p] - learning*d\n",
    "                \n",
    "        #sum up classification error\n",
    "        E.append(sum(err))\n",
    "    \n",
    "    return (y, w, E)\n",
    "\n",
    "(y, w, E) = simple_ann(x, w, t, iterations, learning)"
   ],
   "outputs": [],
   "metadata": {
    "colab": {},
    "colab_type": "code",
    "id": "ytnwNDitduho"
   }
  },
  {
   "cell_type": "code",
   "execution_count": 4,
   "source": [
    "print(y)\n",
    "print(E)\n"
   ],
   "outputs": [
    {
     "output_type": "stream",
     "name": "stdout",
     "text": [
      "[2.5634098868906284e-08, 0.00038213770365918653, 0.0014428852065389562, 0.9988476237831357]\n",
      "[5.882462714414832, 13.448442964182478, 0.007369219521329642, 0.0066562613570046135, 0.006140142271740337, 0.005752251616419142, 0.005451762104364174, 0.005212871393349426, 0.005018528607309364, 0.004857078694744521, 0.004720344434835456, 0.004602469911273602, 0.004499192019889414, 0.004407364897002119, 0.004324640256823818, 0.0042492473519291345, 0.004179838552160867, 0.004115379257031539, 0.004055068400257753, 0.0039982804353793444, 0.003944522622660181, 0.0038934033446969296, 0.0038446084492407013, 0.0037978834825767864, 0.003753020275662409, 0.0037098467660746067, 0.0036682192382573534, 0.003628016379790768, 0.0035891347074775955, 0.003551485030998191, 0.0035149897056482257, 0.0034795804875388837, 0.0034451968505687406, 0.003411784658707873, 0.003379295112755776, 0.003347683909975475, 0.0033169105695026666, 0.003286937887398556, 0.0032577314935275086, 0.003229259488769813, 0.003201492145909961, 0.0031744016612450174, 0.00314796194678749, 0.003122148455136713, 0.003096938030779458, 0.0030723087828894275, 0.0030482399757221232, 0.0030247119334892636, 0.003001705957229048, 0.0029792042516686617]\n"
     ]
    }
   ],
   "metadata": {
    "colab": {},
    "colab_type": "code",
    "id": "MnsiF6FDdvM7"
   }
  },
  {
   "cell_type": "markdown",
   "source": [
    "### Exploring the Iris dataset\n",
    "\n",
    "Let us modify the above code to work with the iris data set.\n",
    "\n",
    "To begin, load the iris data into Google Colab. Last time we had some difficulty with this, so it's suggested that you use Chrome or Chromium. Another approach to load the iris data is shown below:"
   ],
   "metadata": {
    "colab_type": "text",
    "id": "dVrJJw84dbiJ"
   }
  },
  {
   "cell_type": "code",
   "execution_count": 5,
   "source": [
    "# use sklearn.datasets to load iris data\n",
    "\n",
    "from sklearn.datasets import load_iris\n",
    "features, labels = load_iris(return_X_y=True)"
   ],
   "outputs": [],
   "metadata": {
    "colab": {},
    "colab_type": "code",
    "id": "38Qu2LlAIDlQ"
   }
  },
  {
   "cell_type": "markdown",
   "source": [
    "The iris data has 150 samples spread across three classes: \n",
    "1. Iris-setosa, \n",
    "2. Iris-versicolor,\n",
    "3. Iris-virginica. \n",
    "\n",
    "There are three features used: \n",
    "1. sepal length in cm\n",
    "2. sepal width in cm\n",
    "3. petal length in cm\n",
    "4. petal width in cm\n",
    "\n",
    "To keep things simple, let us pick two of the classes and perform binary classification with our sample code. We will select **Iris-setosa** and **Iris-versicolor** to start:"
   ],
   "metadata": {
    "colab_type": "text",
    "id": "dCcmOIFyIbge"
   }
  },
  {
   "cell_type": "code",
   "execution_count": 6,
   "source": [
    "# classification iris-setosa and iris-versicolor\n",
    "import numpy as np\n",
    "\n",
    "indices = np.array(range(0,100))\n",
    "\n",
    "#setup x matrix\n",
    "x = np.zeros((len(indices), 4 + 1))\n",
    "x[:,1:5] = features[indices,:]\n",
    "\n",
    "#add bias column\n",
    "x[:,0] = np.ones(len(indices))\n",
    "\n",
    "#labels\n",
    "t = labels[indices]\n",
    "\n",
    "# initial weights\n",
    "w = np.random.rand(5)\n",
    "\n",
    "iterations = 100\n",
    "learning = 0.0001"
   ],
   "outputs": [],
   "metadata": {
    "colab": {},
    "colab_type": "code",
    "id": "sj2vXappwiUA"
   }
  },
  {
   "cell_type": "code",
   "execution_count": 7,
   "source": [
    "import math\n",
    "\n",
    "def simple_ann(x, w, t, iterations, learning):\n",
    "\n",
    "    E = []\n",
    "    \n",
    "    #iterate over epochs\n",
    "    for ii in range(iterations):\n",
    "        err = [] \n",
    "        y = []\n",
    "        \n",
    "        #iterate over all the samples x\n",
    "        for n in range(len(x)):\n",
    "            \n",
    "            v = 0\n",
    "            #compute w.x\n",
    "            for p in range(len(x[0])):\n",
    "                v = v + x[n,p]*w[p]\n",
    "            \n",
    "            #sigmoidal activation\n",
    "            y.append(1 / (1 + math.e**(-v))) \n",
    "            \n",
    "\n",
    "            #cross-entropy classification error\n",
    "            err.append(-t[n]*math.log(y[n]+ 0.000001) - (1-t[n])*math.log(1-y[n]+ 0.000001))\n",
    "\n",
    "            #gradient descent to compute new weights\n",
    "            for p in range(len(w)):\n",
    "                d = x[n][p]*(y[n]-t[n]) #cross_entropy\n",
    "                w[p] = w[p] - learning*d\n",
    "                \n",
    "        #sum up classification error\n",
    "        E.append(sum(err))\n",
    "    \n",
    "    return (y, w, E)\n",
    "\n",
    "(y, w, E) = simple_ann(x, w, t, iterations, learning)"
   ],
   "outputs": [],
   "metadata": {
    "colab": {},
    "colab_type": "code",
    "id": "6vMfTNVFJFif"
   }
  },
  {
   "cell_type": "code",
   "execution_count": 8,
   "source": [
    "for i in range(len(t)):\n",
    "  print(t[i], y[i])"
   ],
   "outputs": [
    {
     "output_type": "stream",
     "name": "stdout",
     "text": [
      "0 0.31066820449307475\n",
      "0 0.30299196340365764\n",
      "0 0.3275988073267474\n",
      "0 0.37704710740285935\n",
      "0 0.33211913017148414\n",
      "0 0.3600740436890932\n",
      "0 0.38143227658095274\n",
      "0 0.33622575727038045\n",
      "0 0.3702226528322599\n",
      "0 0.325623881357726\n",
      "0 0.29794962785883133\n",
      "0 0.38809505149931045\n",
      "0 0.31238280880417524\n",
      "0 0.32744462345582254\n",
      "0 0.2122689001879307\n",
      "0 0.3082255570833241\n",
      "0 0.27728352960188457\n",
      "0 0.30824194079727063\n",
      "0 0.30015614615335795\n",
      "0 0.3506375008885069\n",
      "0 0.31211061607623003\n",
      "0 0.3446858656242358\n",
      "0 0.3073509495736465\n",
      "0 0.35712289056109453\n",
      "0 0.4510094700535895\n",
      "0 0.3209870150968378\n",
      "0 0.35629163713930545\n",
      "0 0.3076597789052371\n",
      "0 0.2812380765394755\n",
      "0 0.3828328057310053\n",
      "0 0.35834875562685325\n",
      "0 0.27535930458064634\n",
      "0 0.34897970388294997\n",
      "0 0.29315491713918107\n",
      "0 0.32108657602555885\n",
      "0 0.2572449512236352\n",
      "0 0.2288589799424891\n",
      "0 0.3354069785499283\n",
      "0 0.34912317857133734\n",
      "0 0.3119315834065813\n",
      "0 0.2971195357371862\n",
      "0 0.2842685651558019\n",
      "0 0.3638224484174079\n",
      "0 0.3643144286105218\n",
      "0 0.4322550381739943\n",
      "0 0.3085134541476329\n",
      "0 0.3606328611729299\n",
      "0 0.35134837268304525\n",
      "0 0.3014082116765865\n",
      "0 0.29725694083837956\n",
      "1 0.703527511221127\n",
      "1 0.7526241024045962\n",
      "1 0.7499839779486484\n",
      "1 0.7225951626507218\n",
      "1 0.7318767525887109\n",
      "1 0.8099575584762359\n",
      "1 0.8052669017757156\n",
      "1 0.6769984877879581\n",
      "1 0.7217618961036973\n",
      "1 0.7739124332573949\n",
      "1 0.6729703385406112\n",
      "1 0.7567062294046241\n",
      "1 0.6354552750369054\n",
      "1 0.8042598505970151\n",
      "1 0.6773734461776456\n",
      "1 0.6883524131276613\n",
      "1 0.8358601011552017\n",
      "1 0.7241790216280348\n",
      "1 0.7192692872949572\n",
      "1 0.7040591647799449\n",
      "1 0.8584682907803145\n",
      "1 0.6766626695004974\n",
      "1 0.7938052866134685\n",
      "1 0.7980114103444074\n",
      "1 0.6995069099383129\n",
      "1 0.6996157998148899\n",
      "1 0.7326867855604144\n",
      "1 0.7965813733098766\n",
      "1 0.7918177908972123\n",
      "1 0.6149236355107879\n",
      "1 0.6957416726931145\n",
      "1 0.6738589313018464\n",
      "1 0.6960208838843772\n",
      "1 0.8629209100957729\n",
      "1 0.8576216783998989\n",
      "1 0.8219228670559966\n",
      "1 0.7533656990482354\n",
      "1 0.6948918519151559\n",
      "1 0.7812320611395676\n",
      "1 0.7464863384975439\n",
      "1 0.8134673703490222\n",
      "1 0.8025854565410399\n",
      "1 0.7108572260154024\n",
      "1 0.6647047292195097\n",
      "1 0.7808488867595056\n",
      "1 0.7849350864286048\n",
      "1 0.7812191655549652\n",
      "1 0.7351893968721516\n",
      "1 0.6046639906395117\n",
      "1 0.759766728638921\n"
     ]
    }
   ],
   "metadata": {
    "colab": {},
    "colab_type": "code",
    "id": "WgPIaMRLzjXC"
   }
  },
  {
   "cell_type": "markdown",
   "source": [
    "We're able to successfully classify iris-setosa and iris-versicolor."
   ],
   "metadata": {
    "colab_type": "text",
    "id": "ZO8CMusz29hQ"
   }
  },
  {
   "cell_type": "code",
   "execution_count": 9,
   "source": [
    "# classification iris-versicolor and iris virginica\n",
    "import numpy as np\n",
    "\n",
    "indices = np.array(range(50,150))\n",
    "\n",
    "#setup x matrix\n",
    "x = np.zeros((len(indices), 4 + 1))\n",
    "x[:,1:5] = features[indices,:]\n",
    "\n",
    "#add bias column\n",
    "x[:,0] = np.ones(len(indices))\n",
    "\n",
    "#labels\n",
    "t = labels[indices]-1\n",
    "\n",
    "# initial weights\n",
    "w = np.random.rand(5)\n",
    "\n",
    "iterations = 100\n",
    "learning = 0.0001\n",
    "\n",
    "\n",
    "import math\n",
    "\n",
    "def simple_ann(x, w, t, iterations, learning):\n",
    "\n",
    "    E = []\n",
    "    \n",
    "    #iterate over epochs\n",
    "    for ii in range(iterations):\n",
    "        err = [] \n",
    "        y = []\n",
    "        \n",
    "        #iterate over all the samples x\n",
    "        for n in range(len(x)):\n",
    "            \n",
    "            v = 0\n",
    "            #compute w.x\n",
    "            for p in range(len(x[0])):\n",
    "                v = v + x[n,p]*w[p]\n",
    "            \n",
    "            #sigmoidal activation\n",
    "            y.append(1 / (1 + math.e**(-v))) \n",
    "            \n",
    "\n",
    "            #cross-entropy classification error\n",
    "            err.append(-t[n]*math.log(y[n]+ 0.000001) - (1-t[n])*math.log(1-y[n]+ 0.000001))\n",
    "\n",
    "            #gradient descent to compute new weights\n",
    "            for p in range(len(w)):\n",
    "                d = x[n][p]*(y[n]-t[n]) #cross_entropy\n",
    "                w[p] = w[p] - learning*d\n",
    "                \n",
    "        #sum up classification error\n",
    "        E.append(sum(err))\n",
    "    \n",
    "    return (y, w, E)\n",
    "\n",
    "(y, w, E) = simple_ann(x, w, t, iterations, learning)"
   ],
   "outputs": [],
   "metadata": {
    "colab": {},
    "colab_type": "code",
    "id": "cKtAXhNZJUok"
   }
  },
  {
   "cell_type": "code",
   "execution_count": 10,
   "source": [
    "for i in range(len(t)):\n",
    "  print(t[i], y[i])"
   ],
   "outputs": [
    {
     "output_type": "stream",
     "name": "stdout",
     "text": [
      "0 0.4104570431323451\n",
      "0 0.4620117558038192\n",
      "0 0.4553107052539177\n",
      "0 0.5156204559099182\n",
      "0 0.48086610591386475\n",
      "0 0.5097730379723655\n",
      "0 0.4939707722251777\n",
      "0 0.45345162292066216\n",
      "0 0.4303391018442191\n",
      "0 0.5243013349722616\n",
      "0 0.4813253086961537\n",
      "0 0.4849502726651638\n",
      "0 0.4211579795249307\n",
      "0 0.4955438397274489\n",
      "0 0.43330247685887213\n",
      "0 0.4056347464169024\n",
      "0 0.5327208433283624\n",
      "0 0.41599845868724505\n",
      "0 0.5220188494178682\n",
      "0 0.44341744026437574\n",
      "0 0.5653546743151535\n",
      "0 0.42174318775011105\n",
      "0 0.5255648634555191\n",
      "0 0.4600128457151163\n",
      "0 0.41139669843801774\n",
      "0 0.411653700550405\n",
      "0 0.4359186899986523\n",
      "0 0.498402293640461\n",
      "0 0.4927794829905609\n",
      "0 0.37494527896220464\n",
      "0 0.4422450188086839\n",
      "0 0.4175219791318887\n",
      "0 0.42198679545338896\n",
      "0 0.5654073337783518\n",
      "0 0.5373518252725619\n",
      "0 0.4759314792097814\n",
      "0 0.4282870442610688\n",
      "0 0.45149956845306977\n",
      "0 0.4509248064583394\n",
      "0 0.47945451514534265\n",
      "0 0.4888019257233879\n",
      "0 0.4597754695989185\n",
      "0 0.4282068936607057\n",
      "0 0.4285691659789386\n",
      "0 0.4718271709245371\n",
      "0 0.42887184773096115\n",
      "0 0.45009024760588995\n",
      "0 0.4122319208349987\n",
      "0 0.39867343695075796\n",
      "0 0.445942830520717\n",
      "1 0.6999150793350076\n",
      "1 0.6190012720052065\n",
      "1 0.581847777081671\n",
      "1 0.5882478090340464\n",
      "1 0.643968729429013\n",
      "1 0.5946167374951072\n",
      "1 0.6344902710264595\n",
      "1 0.5568554956632499\n",
      "1 0.5944619543924073\n",
      "1 0.6256415897739442\n",
      "1 0.5525413266215264\n",
      "1 0.5896990800409545\n",
      "1 0.5863928116723465\n",
      "1 0.654617033565377\n",
      "1 0.6973227474930237\n",
      "1 0.6286280232888237\n",
      "1 0.567584758747818\n",
      "1 0.5773848365957562\n",
      "1 0.6723526363267491\n",
      "1 0.5706360854106256\n",
      "1 0.6206812778411631\n",
      "1 0.6454870110583028\n",
      "1 0.6047245918418073\n",
      "1 0.5600909416321327\n",
      "1 0.6045217539233955\n",
      "1 0.5420354563720465\n",
      "1 0.5580531949020083\n",
      "1 0.5647315261600346\n",
      "1 0.6519407736739553\n",
      "1 0.5077509530747332\n",
      "1 0.5757988557944408\n",
      "1 0.5176295235349537\n",
      "1 0.6704696032728492\n",
      "1 0.5301993226567169\n",
      "1 0.583877470267149\n",
      "1 0.6081441395167252\n",
      "1 0.6810938764430081\n",
      "1 0.5894634299327711\n",
      "1 0.574597006875272\n",
      "1 0.5880338302710938\n",
      "1 0.6673310562275683\n",
      "1 0.5978803853071106\n",
      "1 0.6494163358081849\n",
      "1 0.6638125739196457\n",
      "1 0.6821937723211172\n",
      "1 0.6307969619515632\n",
      "1 0.6131572997755337\n",
      "1 0.6020172747250399\n",
      "1 0.6683297108834901\n",
      "1 0.6147416390895579\n"
     ]
    }
   ],
   "metadata": {
    "colab": {},
    "colab_type": "code",
    "id": "G5DlhozN2gOW"
   }
  },
  {
   "cell_type": "markdown",
   "source": [
    "The performance on the iris-versicolor and iris virginica is not as good. To find out why, we will try to visualize the data."
   ],
   "metadata": {
    "colab_type": "text",
    "id": "7iwvTlW43L8h"
   }
  },
  {
   "cell_type": "markdown",
   "source": [
    "### Visualize Iris Dataset\n",
    "Since the Iris dataset has only 4 inputs we can try to visualize it on a 2-dimensional plane to get a better idea of what is happening."
   ],
   "metadata": {
    "colab_type": "text",
    "id": "wb_g2BEdU_Fu"
   }
  },
  {
   "cell_type": "code",
   "execution_count": 11,
   "source": [
    "#scatter plot of iris-setosa and iris-versicolor\n",
    "import numpy as np\n",
    "from matplotlib import pyplot as plt\n",
    "\n",
    "indices = np.array(range(0,100))\n",
    "\n",
    "selected_features = features[indices,:]\n",
    "selected_labels = labels[indices]\n",
    "\n",
    "feature_name = ['sepal length in cm', 'sepal width in cm', 'petal length in cm', 'petal width in cm']\n",
    "\n",
    "x_index = 0\n",
    "y_index = 1\n",
    "\n",
    "plt.figure(figsize=(5, 4))\n",
    "plt.scatter(selected_features[:,x_index], selected_features[:,y_index], c= selected_labels)\n",
    "plt.colorbar(ticks=[0, 1, 2])\n",
    "plt.xlabel(feature_name[x_index])\n",
    "plt.ylabel(feature_name[y_index])\n",
    "\n",
    "plt.tight_layout()\n",
    "plt.show()"
   ],
   "outputs": [
    {
     "output_type": "display_data",
     "data": {
      "image/png": "[encoded data removed]",
      "text/plain": [
       "<Figure size 360x288 with 2 Axes>"
      ]
     },
     "metadata": {
      "needs_background": "light"
     }
    }
   ],
   "metadata": {
    "colab": {
     "base_uri": "https://localhost:8080/",
     "height": 297
    },
    "colab_type": "code",
    "id": "B6SleB-DVS25",
    "outputId": "a8070bfc-2868-48d1-a989-dc3af3256009"
   }
  },
  {
   "cell_type": "code",
   "execution_count": 12,
   "source": [
    "# scatter plot of iris-versicolor and iris virginica\n",
    "import numpy as np\n",
    "from matplotlib import pyplot as plt\n",
    "\n",
    "indices = np.array(range(50,150))\n",
    "\n",
    "selected_features = features[indices,:]\n",
    "selected_labels = labels[indices]\n",
    "\n",
    "feature_name = ['sepal length in cm', 'sepal width in cm', 'petal length in cm', 'petal width in cm']\n",
    "\n",
    "x_index = 0\n",
    "y_index = 1\n",
    "\n",
    "plt.figure(figsize=(5, 4))\n",
    "plt.scatter(selected_features[:,x_index], selected_features[:,y_index], c= selected_labels)\n",
    "plt.colorbar(ticks=[0, 1, 2])\n",
    "plt.xlabel(feature_name[x_index])\n",
    "plt.ylabel(feature_name[y_index])\n",
    "\n",
    "plt.tight_layout()\n",
    "plt.show()"
   ],
   "outputs": [
    {
     "output_type": "display_data",
     "data": {
      "image/png": "[encoded data removed]",
      "text/plain": [
       "<Figure size 360x288 with 2 Axes>"
      ]
     },
     "metadata": {
      "needs_background": "light"
     }
    }
   ],
   "metadata": {
    "colab": {
     "base_uri": "https://localhost:8080/",
     "height": 297
    },
    "colab_type": "code",
    "id": "mcLbUFswvBCE",
    "outputId": "7fdcc856-068e-4534-c4ff-17429c0e9f2b"
   }
  },
  {
   "cell_type": "markdown",
   "source": [
    "### Nonlinear Separation\n",
    "Our 1-layer ANN was only successful one of the binary classification combinations. A 1-layer ANN is unable to handle nonlinear separations (or decisions boundaries). To address this we can introduce a second layer known as a hidden layer. How could we do this?\n",
    "\n",
    "We can just include an additional 1-layer networks as shown in the image below. \n",
    "\n",
    "![alt text](https://miro.medium.com/max/1000/1*sX6T0Y4aa3ARh7IBS_sdqw.png)\n",
    "\n",
    "\n",
    "We would follow the same process as with the 1-layer network:\n",
    "\n",
    "1. write out the equations for the forward pass\n",
    "2. error term can stay the same MSE or Cross-Entropy\n",
    "3. Gradient descent would be applied now to two layers of weights\n",
    "\n",
    "First we would consider the forward pass for a 2-layer ANN. We could use a sigmoidal (logistic) activation function to keep things consistent with our earlier example. Note that the activation function will be applied once on the hidden layer, and also on the output layer.\n",
    "\n",
    "Computing the gradient with respect to the different layers of weights will become more difficult, but still manageable. There are just some additional terms in the chain rule. The second layer weights will be almost identical to what we computed for a 1-layer network, except the input will be the hidden layer activation.\n",
    "\n",
    "Instead of spending the time to compute gradients with each change to the network, which can be a fun mathematical exercise, we will instead focus on using the PyTorch libraries which handle all of this internally."
   ],
   "metadata": {
    "colab_type": "text",
    "id": "7Cqsdyg1de8M"
   }
  },
  {
   "cell_type": "markdown",
   "source": [
    "### (Optional) Develop a 2-layer ANN\n",
    "Build a 2-layer network using cross-entropy. Determine the gradients with resepect to the layer 1 and layer 2 weights. How could you validate if the gradients were computed correctly?"
   ],
   "metadata": {
    "colab_type": "text",
    "id": "5g4umO_YStI4"
   }
  },
  {
   "cell_type": "code",
   "execution_count": 13,
   "source": [
    "#write code to build a 2-layer network using cross-entropy\n",
    "\n",
    "\n",
    "\n",
    "\n",
    "\n",
    "\n",
    "\n",
    "\n",
    "\n"
   ],
   "outputs": [],
   "metadata": {
    "colab": {},
    "colab_type": "code",
    "id": "xXNbhFSFTJp1"
   }
  },
  {
   "cell_type": "markdown",
   "source": [
    "### What is PyTorch?\n",
    "\n",
    "PyTorch is a scientific computing package that builds on the NumPy library to allow for the use of GPUs. It incorporates deep learning capabilities while maximizing flexibility and speed.\n",
    "\n",
    "### PyTorch Basics\n",
    "\n",
    "To use PyTorch you must first import the library\n",
    "\n",
    "\n",
    "\n",
    "\n",
    "\n",
    "\n",
    "\n"
   ],
   "metadata": {
    "colab_type": "text",
    "id": "JiwXNn3SNZfu"
   }
  },
  {
   "cell_type": "code",
   "execution_count": 14,
   "source": [
    "import torch\n",
    "torch.__version__"
   ],
   "outputs": [
    {
     "output_type": "execute_result",
     "data": {
      "text/plain": [
       "'1.9.1+cu102'"
      ]
     },
     "metadata": {},
     "execution_count": 14
    }
   ],
   "metadata": {
    "colab": {},
    "colab_type": "code",
    "id": "TU7EUSNcVN9x"
   }
  },
  {
   "cell_type": "markdown",
   "source": [
    "#### Tensors\n",
    "Tensors are n-dimensional arrays that allow that can be used with a GPU to accelerate computing. There are several ways to work with Tensors:"
   ],
   "metadata": {
    "colab_type": "text",
    "id": "2bTAo6LzVJwg"
   }
  },
  {
   "cell_type": "code",
   "execution_count": 15,
   "source": [
    "# initialize a random tensor\n",
    "x = torch.rand(4, 3)\n",
    "print(x)"
   ],
   "outputs": [
    {
     "output_type": "stream",
     "name": "stdout",
     "text": [
      "tensor([[0.3033, 0.6929, 0.8770],\n",
      "        [0.4277, 0.1921, 0.3325],\n",
      "        [0.1658, 0.4021, 0.5275],\n",
      "        [0.4065, 0.3767, 0.2215]])\n"
     ]
    }
   ],
   "metadata": {
    "colab": {},
    "colab_type": "code",
    "id": "1MuUNQZ3UksM"
   }
  },
  {
   "cell_type": "code",
   "execution_count": 16,
   "source": [
    "# initialize a tensor loaded with zeros\n",
    "x = torch.zeros(4, 3)\n",
    "print(x)"
   ],
   "outputs": [
    {
     "output_type": "stream",
     "name": "stdout",
     "text": [
      "tensor([[0., 0., 0.],\n",
      "        [0., 0., 0.],\n",
      "        [0., 0., 0.],\n",
      "        [0., 0., 0.]])\n"
     ]
    }
   ],
   "metadata": {
    "colab": {},
    "colab_type": "code",
    "id": "SmcpRB48VVFe"
   }
  },
  {
   "cell_type": "code",
   "execution_count": 17,
   "source": [
    "# initialized with data entered manually\n",
    "x = torch.tensor([2.1, 4.0, -5.2])\n",
    "print(x)"
   ],
   "outputs": [
    {
     "output_type": "stream",
     "name": "stdout",
     "text": [
      "tensor([ 2.1000,  4.0000, -5.2000])\n"
     ]
    }
   ],
   "metadata": {
    "colab": {},
    "colab_type": "code",
    "id": "LI84uJM-VjyL"
   }
  },
  {
   "cell_type": "code",
   "execution_count": 18,
   "source": [
    "# initialized with data from numPy\n",
    "import numpy as np\n",
    "data = np.array([2.1, 4.0, -5.2])\n",
    "print(data)\n",
    "x = torch.tensor(data)\n",
    "print(x)\n",
    "\n",
    "# note you can easily convert fron tensor to numpy\n",
    "x_np = x.numpy()\n",
    "print(x_np)"
   ],
   "outputs": [
    {
     "output_type": "stream",
     "name": "stdout",
     "text": [
      "[ 2.1  4.  -5.2]\n",
      "tensor([ 2.1000,  4.0000, -5.2000], dtype=torch.float64)\n",
      "[ 2.1  4.  -5.2]\n"
     ]
    }
   ],
   "metadata": {
    "colab": {},
    "colab_type": "code",
    "id": "421on8nnWE3e"
   }
  },
  {
   "cell_type": "markdown",
   "source": [
    "### Tensor size and shape"
   ],
   "metadata": {
    "colab_type": "text",
    "id": "R_I8gINJWy1g"
   }
  },
  {
   "cell_type": "code",
   "execution_count": 19,
   "source": [
    "# obtain size of tensor data structure\n",
    "x = torch.zeros(4, 3)\n",
    "print(x.size())"
   ],
   "outputs": [
    {
     "output_type": "stream",
     "name": "stdout",
     "text": [
      "torch.Size([4, 3])\n"
     ]
    }
   ],
   "metadata": {
    "colab": {},
    "colab_type": "code",
    "id": "CUCzrV1nW5XA"
   }
  },
  {
   "cell_type": "markdown",
   "source": [
    "### Operations\n"
   ],
   "metadata": {
    "colab_type": "text",
    "id": "cdPIVeeEXFO5"
   }
  },
  {
   "cell_type": "code",
   "execution_count": 20,
   "source": [
    "# tensor addition\n",
    "x = torch.rand(4, 3)\n",
    "y = torch.ones(4, 3)\n",
    "print(x + y)"
   ],
   "outputs": [
    {
     "output_type": "stream",
     "name": "stdout",
     "text": [
      "tensor([[1.3772, 1.0282, 1.8803],\n",
      "        [1.9996, 1.1915, 1.4522],\n",
      "        [1.9200, 1.0239, 1.8705],\n",
      "        [1.0239, 1.5868, 1.4548]])\n"
     ]
    }
   ],
   "metadata": {
    "colab": {},
    "colab_type": "code",
    "id": "M5AltppKXUZv"
   }
  },
  {
   "cell_type": "code",
   "execution_count": 21,
   "source": [
    "# tensor multiplication\n",
    "x = torch.rand(4, 3)\n",
    "y = torch.ones(4, 3)\n",
    "print(x * y)"
   ],
   "outputs": [
    {
     "output_type": "stream",
     "name": "stdout",
     "text": [
      "tensor([[0.2121, 0.3556, 0.3087],\n",
      "        [0.4390, 0.4541, 0.4444],\n",
      "        [0.4904, 0.9220, 0.4356],\n",
      "        [0.1136, 0.9981, 0.7198]])\n"
     ]
    }
   ],
   "metadata": {
    "colab": {},
    "colab_type": "code",
    "id": "9UsB6YlwX_p2"
   }
  },
  {
   "cell_type": "code",
   "execution_count": 22,
   "source": [
    "# Provide output tensor as argument\n",
    "result = torch.ones(4,3)\n",
    "torch.add(x, y, out = result)\n",
    "print(result)"
   ],
   "outputs": [
    {
     "output_type": "stream",
     "name": "stdout",
     "text": [
      "tensor([[1.2121, 1.3556, 1.3087],\n",
      "        [1.4390, 1.4541, 1.4444],\n",
      "        [1.4904, 1.9220, 1.4356],\n",
      "        [1.1136, 1.9981, 1.7198]])\n"
     ]
    }
   ],
   "metadata": {
    "colab": {},
    "colab_type": "code",
    "id": "V8W5LZlbXnMu"
   }
  },
  {
   "cell_type": "code",
   "execution_count": 23,
   "source": [
    "# resize and reshape tensors\n",
    "x = torch.randn(4, 3)\n",
    "y = x.view(12)\n",
    "z = x.view(-1, 4)  # the size -1 is inferred from other dimensions\n",
    "print(x.size(), y.size(), z.size())"
   ],
   "outputs": [
    {
     "output_type": "stream",
     "name": "stdout",
     "text": [
      "torch.Size([4, 3]) torch.Size([12]) torch.Size([3, 4])\n"
     ]
    }
   ],
   "metadata": {
    "colab": {},
    "colab_type": "code",
    "id": "FxDlMlhnYWAN"
   }
  },
  {
   "cell_type": "code",
   "execution_count": 24,
   "source": [
    "# convert one element tensor to a Python number\n",
    "x = torch.randn(1)\n",
    "print(x)\n",
    "print(x.item())"
   ],
   "outputs": [
    {
     "output_type": "stream",
     "name": "stdout",
     "text": [
      "tensor([-0.6368])\n",
      "-0.6368181705474854\n"
     ]
    }
   ],
   "metadata": {
    "colab": {},
    "colab_type": "code",
    "id": "IBcAFWNSZnPE"
   }
  },
  {
   "cell_type": "markdown",
   "source": [
    "### Automatic Differentiation\n",
    "\n",
    "The PyTorch autograd package allows for easy computation of derivative. This is handled automatically using a define-by-run framework, which works as you write your code. \n",
    "\n",
    "To enable this feature you need to set the Tensor attribute .required_grat to True, at which point it begins to track all operations performed on it. After your computation have been completed you can call .backward() and all the gradients will be computed for you. The gradient for each tensor will be stored in the tensor attribute .grad.\n",
    "\n",
    "Each tensor also has a .grad_fn attribute which references Function that has created it.\n",
    "\n"
   ],
   "metadata": {
    "colab_type": "text",
    "id": "OhBQXibrZy0Z"
   }
  },
  {
   "cell_type": "code",
   "execution_count": 25,
   "source": [
    "# Example computation of gradients\n",
    "x = torch.rand(4, 3, requires_grad=True)\n",
    "print(x)\n",
    "\n",
    "#perform some operations\n",
    "y = x + 10\n",
    "z = y*y\n",
    "out = z.mean()\n",
    "\n",
    "print(z, out)"
   ],
   "outputs": [
    {
     "output_type": "stream",
     "name": "stdout",
     "text": [
      "tensor([[0.2464, 0.5769, 0.9675],\n",
      "        [0.5497, 0.8452, 0.3101],\n",
      "        [0.9556, 0.8837, 0.3656],\n",
      "        [0.7961, 0.8083, 0.6062]], requires_grad=True)\n",
      "tensor([[104.9879, 111.8711, 120.2857],\n",
      "        [111.2970, 117.6179, 106.2985],\n",
      "        [120.0262, 118.4555, 107.4453],\n",
      "        [116.5557, 116.8184, 112.4910]], grad_fn=<MulBackward0>) tensor(113.6792, grad_fn=<MeanBackward0>)\n"
     ]
    }
   ],
   "metadata": {
    "colab": {},
    "colab_type": "code",
    "id": "bKqBTFK2cRZW"
   }
  },
  {
   "cell_type": "code",
   "execution_count": 26,
   "source": [
    "# compute the gradient with respect to the output\n",
    "out.backward()\n",
    "print(x.grad)"
   ],
   "outputs": [
    {
     "output_type": "stream",
     "name": "stdout",
     "text": [
      "tensor([[1.7077, 1.7628, 1.8279],\n",
      "        [1.7583, 1.8075, 1.7184],\n",
      "        [1.8259, 1.8140, 1.7276],\n",
      "        [1.7993, 1.8014, 1.7677]])\n"
     ]
    }
   ],
   "metadata": {
    "colab": {},
    "colab_type": "code",
    "id": "6JDr3PgVdGMp"
   }
  },
  {
   "cell_type": "markdown",
   "source": [
    "## Artificial Neural Networks in PyTorch\n",
    "In this example we will train an \"artificial pigeon\" to perform a digit recognition\n",
    "task. That is, we will use the MNIST dataset of hand-written digits, and train\n",
    "the pigeon to **recognize a small digit, namely a digit that is less than 3**.\n",
    "This problem is a **binary classification problem** we want to predict\n",
    "which of two classes an input image is a part of.\n",
    "\n",
    "### 1) Load MNIST Data\n",
    "The MNIST dataset contains hand-written digits that are 28x28 pixels large.\n",
    "Here are a few digits in the dataset:\n"
   ],
   "metadata": {
    "colab_type": "text",
    "id": "8ntVfJhxUjtN"
   }
  },
  {
   "cell_type": "code",
   "execution_count": 27,
   "source": [
    "from torchvision import datasets, transforms\n",
    "\n",
    "# load the data\n",
    "mnist_train = datasets.MNIST('data', train=True, download=True)\n",
    "mnist_train = list(mnist_train)[:2000]"
   ],
   "outputs": [
    {
     "output_type": "stream",
     "name": "stderr",
     "text": [
      "/home/hina/.local/lib/python3.9/site-packages/torchvision/datasets/mnist.py:498: UserWarning: The given NumPy array is not writeable, and PyTorch does not support non-writeable tensors. This means you can write to the underlying (supposedly non-writeable) NumPy array using the tensor. You may want to copy the array to protect its data or make it writeable before converting it to a tensor. This type of warning will be suppressed for the rest of this program. (Triggered internally at  ../torch/csrc/utils/tensor_numpy.cpp:180.)\n",
      "  return torch.from_numpy(parsed.astype(m[2], copy=False)).view(*s)\n"
     ]
    }
   ],
   "metadata": {
    "colab": {},
    "colab_type": "code",
    "id": "FOu8rvDVMpSq"
   }
  },
  {
   "cell_type": "code",
   "execution_count": 28,
   "source": [
    "# plot the first 18 images in the training data\n",
    "for k, (image, label) in enumerate(mnist_train[:18]):\n",
    "    plt.subplot(3, 6, k+1)\n",
    "    plt.imshow(image)\n"
   ],
   "outputs": [
    {
     "output_type": "display_data",
     "data": {
      "image/png": "[encoded data removed]",
      "text/plain": [
       "<Figure size 432x288 with 18 Axes>"
      ]
     },
     "metadata": {
      "needs_background": "light"
     }
    }
   ],
   "metadata": {
    "colab": {},
    "colab_type": "code",
    "id": "U3xCgqcwMvCl"
   }
  },
  {
   "cell_type": "markdown",
   "source": [
    "### 2) Defining the ANN Forward Pass\n",
    "Here is an implementation of the artificial pigeon brain in PyTorch.\n",
    "Don't worry if this code or the explanations don't make sense yet."
   ],
   "metadata": {
    "colab_type": "text",
    "id": "F-DcwbkZ3Nlx"
   }
  },
  {
   "cell_type": "code",
   "execution_count": 29,
   "source": [
    "import torch\n",
    "import torch.nn as nn\n",
    "import torch.nn.functional as F\n",
    "from torchvision import datasets, transforms\n",
    "import matplotlib.pyplot as plt # for plotting\n",
    "\n",
    "import torch.optim as optim\n",
    "\n",
    "torch.manual_seed(1) # set the random seed\n",
    "\n",
    "class Pigeon(nn.Module):\n",
    "    def __init__(self):\n",
    "        super(Pigeon, self).__init__()\n",
    "        self.layer1 = nn.Linear(28 * 28, 30)\n",
    "        self.layer2 = nn.Linear(30, 1)\n",
    "    def forward(self, img):\n",
    "        flattened = img.view(-1, 28 * 28) # -1 indicates as many as you want\n",
    "        activation1 = self.layer1(flattened)\n",
    "        activation1 = F.relu(activation1)\n",
    "        activation2 = self.layer2(activation1)\n",
    "        return activation2\n",
    "\n",
    "pigeon = Pigeon()"
   ],
   "outputs": [],
   "metadata": {
    "colab": {},
    "colab_type": "code",
    "id": "1-ueh5jh3I5p"
   }
  },
  {
   "cell_type": "markdown",
   "source": [
    "In this network, there are 28x28 = 784 input neurons, to work with our 28x28 pixel images. We have a single output neuron and a hidden layer of 30 neurons.\n",
    "\n",
    "The variable `pigeon.layer1` contains information about the connectivity\n",
    "between the input layer and the hidden layer (stored as a matrix), and the\n",
    "biases (stored as a vector).\n",
    "\n",
    "Similarly, the variable `pigeon.layer2` contains information about the weights\n",
    "between the hidden layer and the output layer, and the bias.\n",
    "\n",
    "The weights and biases adjust during training, so they are called the model's\n",
    "**parameters**."
   ],
   "metadata": {
    "colab_type": "text",
    "id": "hi9lSSOtKhEE"
   }
  },
  {
   "cell_type": "code",
   "execution_count": 30,
   "source": [
    "# view parameters\n",
    "for w in pigeon.layer1.parameters():\n",
    "    print(w)"
   ],
   "outputs": [
    {
     "output_type": "stream",
     "name": "stdout",
     "text": [
      "Parameter containing:\n",
      "tensor([[ 0.0184, -0.0158, -0.0069,  ...,  0.0068, -0.0041,  0.0025],\n",
      "        [-0.0274, -0.0224, -0.0309,  ..., -0.0029,  0.0013, -0.0167],\n",
      "        [ 0.0282, -0.0095, -0.0340,  ..., -0.0141,  0.0056, -0.0335],\n",
      "        ...,\n",
      "        [ 0.0267,  0.0186, -0.0326,  ...,  0.0047, -0.0072, -0.0301],\n",
      "        [-0.0190,  0.0291,  0.0221,  ...,  0.0067,  0.0206,  0.0151],\n",
      "        [ 0.0226,  0.0331,  0.0182,  ...,  0.0150,  0.0278, -0.0073]],\n",
      "       requires_grad=True)\n",
      "Parameter containing:\n",
      "tensor([-0.0210,  0.0144,  0.0214, -0.0018, -0.0185,  0.0275, -0.0284, -0.0248,\n",
      "        -0.0180, -0.0168, -0.0226, -0.0093,  0.0211, -0.0311,  0.0002, -0.0010,\n",
      "         0.0201,  0.0176, -0.0050,  0.0118, -0.0089,  0.0078, -0.0072,  0.0118,\n",
      "         0.0122, -0.0125,  0.0326,  0.0306,  0.0058, -0.0089],\n",
      "       requires_grad=True)\n"
     ]
    }
   ],
   "metadata": {
    "colab": {},
    "colab_type": "code",
    "id": "82KQZkDlLx7j"
   }
  },
  {
   "cell_type": "markdown",
   "source": [
    "### 3) Test Network Forward Pass\n",
    "Here is an example of using the network to classify whether the\n",
    "image contains a small digit."
   ],
   "metadata": {
    "colab_type": "text",
    "id": "86ubAvO03eMp"
   }
  },
  {
   "cell_type": "code",
   "execution_count": 31,
   "source": [
    "# make predictions for the first 10 images in mnist_train\n",
    "img_to_tensor = transforms.ToTensor() #transform the image data into a 28x28 matrix of numbers\n",
    "\n",
    "for k, (image, label) in enumerate(mnist_train[:10]):\n",
    "    inval = img_to_tensor(image)\n",
    "    outval = pigeon(inval)       # find the output activation given input\n",
    "    prob = torch.sigmoid(outval) # turn the activation into a probability\n",
    "    print(prob)"
   ],
   "outputs": [
    {
     "output_type": "stream",
     "name": "stdout",
     "text": [
      "tensor([[0.5009]], grad_fn=<SigmoidBackward>)\n",
      "tensor([[0.5219]], grad_fn=<SigmoidBackward>)\n",
      "tensor([[0.4872]], grad_fn=<SigmoidBackward>)\n",
      "tensor([[0.5012]], grad_fn=<SigmoidBackward>)\n",
      "tensor([[0.4940]], grad_fn=<SigmoidBackward>)\n",
      "tensor([[0.4966]], grad_fn=<SigmoidBackward>)\n",
      "tensor([[0.5027]], grad_fn=<SigmoidBackward>)\n",
      "tensor([[0.4993]], grad_fn=<SigmoidBackward>)\n",
      "tensor([[0.4996]], grad_fn=<SigmoidBackward>)\n",
      "tensor([[0.4942]], grad_fn=<SigmoidBackward>)\n"
     ]
    }
   ],
   "metadata": {
    "colab": {},
    "colab_type": "code",
    "id": "OtiBP83X247A"
   }
  },
  {
   "cell_type": "markdown",
   "source": [
    "Since we haven't trained the network\n",
    "yet, the predicted probability of images containing a small digit \n",
    "is close to half. The \"pigeon\" is unsure.\n",
    "\n",
    "In order for the network to be useful, we need to actually train it, so\n",
    "that the weights are actually meaningful, non-random values."
   ],
   "metadata": {
    "colab_type": "text",
    "id": "SHkHYl0aO7ot"
   }
  },
  {
   "cell_type": "markdown",
   "source": [
    "### 4) Update Parameters using Gradient Descent with Cross-Entropy\n",
    "To update the parameters (weights) we will first use the network to make predictions, then compare the predictions\n",
    "agains the ground truth. To compare the predictions against actual values we'll compute a classification error using the Cross-Entropy equation.\n",
    "\n",
    "The classification error, that is how good or bad the prediction was compared to the actual values is more commonly referred to as the **loss** and Cross-Entropy is the **loss function**. The introduction of a loss function makes our problem a **optimization** problem: what set of parameters minimizes the loss across the training examples?\n",
    "\n",
    "Turning a learning problem into an optimization problem\n",
    "is actually a very subtle but important step in many machine learning tools,\n",
    "because it allows us to use tools from mathematical optimization.\n",
    "\n",
    "That there are **optimizers** that can tune the network parameters for\n",
    "us is also really, really cool. The gradient descent algorithm we derived in the last lecture is one example of an optimizer.\n",
    "\n",
    "For now, we will choose a standard loss function for a binary classification\n",
    "problem: the **binary cross-entropy loss**. We'll also choose\n",
    "a **stochastic gradient descent** optimizer. We'll talk about\n",
    "what these mean later in the course."
   ],
   "metadata": {
    "colab_type": "text",
    "id": "RiUzssKS3ifv"
   }
  },
  {
   "cell_type": "code",
   "execution_count": 32,
   "source": [
    "# simplified training code to train `pigeon` on the \"small digit recognition\" task\n",
    "import torch.optim as optim\n",
    "criterion = nn.BCEWithLogitsLoss()\n",
    "optimizer = optim.SGD(pigeon.parameters(), lr=0.005, momentum=0.9)"
   ],
   "outputs": [],
   "metadata": {
    "colab": {},
    "colab_type": "code",
    "id": "qZhbr5Bw270k"
   }
  },
  {
   "cell_type": "markdown",
   "source": [
    "Now, we can start to train the pigeon network, similar to the way we would train\n",
    "a real pigeon:\n",
    "\n",
    "1. We'll show the network pictures of digits, one by one\n",
    "2. We'll see what the network predicts\n",
    "3. We'll check the loss function for that example digit, comparing the network prediction against the ground truth\n",
    "4. We'll make a small update to the parameters to try and improve the loss for that digit\n",
    "5. We'll continue doing this many times -- let's say 1000 times\n",
    "\n",
    "For simplicity, we'll use 1000 images, and show the network each image only once."
   ],
   "metadata": {
    "colab_type": "text",
    "id": "BtHoiE6AYadE"
   }
  },
  {
   "cell_type": "code",
   "execution_count": 33,
   "source": [
    "for (image, label) in mnist_train[:1000]:\n",
    "    # actual ground truth: is the digit less than 3?\n",
    "    actual = torch.tensor(label < 3).reshape([1,1]).type(torch.FloatTensor)\n",
    "    # pigeon prediction\n",
    "    out = pigeon(img_to_tensor(image)) # step 1-2\n",
    "    # update the parameters based on the loss\n",
    "    loss = criterion(out, actual)      # step 3\n",
    "    loss.backward()                    # step 4 (compute the updates for each parameter)\n",
    "    optimizer.step()                   # step 4 (make the updates for each parameter)\n",
    "    optimizer.zero_grad()              # a clean up step for PyTorch"
   ],
   "outputs": [],
   "metadata": {
    "colab": {},
    "colab_type": "code",
    "id": "LHmT89U0RM3C"
   }
  },
  {
   "cell_type": "markdown",
   "source": [
    "It is very common to run into errors with changing different data types to tensors with the correct shape."
   ],
   "metadata": {
    "colab_type": "text",
    "id": "JfzAfZiuRQWx"
   }
  },
  {
   "cell_type": "markdown",
   "source": [
    "### 5) Test Updated Network Forward Pass"
   ],
   "metadata": {
    "colab_type": "text",
    "id": "p9Gieq973sDh"
   }
  },
  {
   "cell_type": "code",
   "execution_count": 34,
   "source": [
    "# make predictions for the first 10 images in mnist_train\n",
    "for k, (image, label) in enumerate(mnist_train[:10]):\n",
    "    print(label, torch.sigmoid(pigeon(img_to_tensor(image))))"
   ],
   "outputs": [
    {
     "output_type": "stream",
     "name": "stdout",
     "text": [
      "5 tensor([[0.0075]], grad_fn=<SigmoidBackward>)\n",
      "0 tensor([[0.9746]], grad_fn=<SigmoidBackward>)\n",
      "4 tensor([[0.0339]], grad_fn=<SigmoidBackward>)\n",
      "1 tensor([[0.9749]], grad_fn=<SigmoidBackward>)\n",
      "9 tensor([[0.0022]], grad_fn=<SigmoidBackward>)\n",
      "2 tensor([[0.4031]], grad_fn=<SigmoidBackward>)\n",
      "1 tensor([[0.9636]], grad_fn=<SigmoidBackward>)\n",
      "3 tensor([[0.0011]], grad_fn=<SigmoidBackward>)\n",
      "1 tensor([[0.9194]], grad_fn=<SigmoidBackward>)\n",
      "4 tensor([[0.0008]], grad_fn=<SigmoidBackward>)\n"
     ]
    }
   ],
   "metadata": {
    "colab": {
     "base_uri": "https://localhost:8080/",
     "height": 187
    },
    "colab_type": "code",
    "id": "N-RgzimS3FEW",
    "outputId": "755932da-a249-445e-de2c-94b6dda6b5b3"
   }
  },
  {
   "cell_type": "markdown",
   "source": [
    "Not bad! We'll use the probability 50% as the cutoff for making a \n",
    "discrete prediction. Then, we can compute the accuracy on the 1000\n",
    "images we used to train the network."
   ],
   "metadata": {
    "colab_type": "text",
    "id": "Otc8_sYjOk1I"
   }
  },
  {
   "cell_type": "markdown",
   "source": [
    "### 6)a) Validation of Network on Training Data"
   ],
   "metadata": {
    "colab_type": "text",
    "id": "-pluL_aN30CC"
   }
  },
  {
   "cell_type": "code",
   "execution_count": 35,
   "source": [
    "# computing the error and accuracy on the training set\n",
    "error = 0\n",
    "for (image, label) in mnist_train[:1000]:\n",
    "    prob = torch.sigmoid(pigeon(img_to_tensor(image)))\n",
    "    if (prob < 0.5 and label < 3) or (prob >= 0.5 and label >= 3):\n",
    "        error += 1\n",
    "print(\"Training Error Rate:\", error/1000)\n",
    "print(\"Training Accuracy:\", 1 - error/1000)"
   ],
   "outputs": [
    {
     "output_type": "stream",
     "name": "stdout",
     "text": [
      "Training Error Rate: 0.036\n",
      "Training Accuracy: 0.964\n"
     ]
    }
   ],
   "metadata": {
    "colab": {
     "base_uri": "https://localhost:8080/",
     "height": 51
    },
    "colab_type": "code",
    "id": "r-Qq5Bgh4Hx9",
    "outputId": "5496037d-c29d-4c6f-c1f7-b7689d3d2ecb"
   }
  },
  {
   "cell_type": "markdown",
   "source": [
    "The accuracy on those 1000 images is 96%, which is really good considering\n",
    "that we only showed the network each image only once.\n",
    "\n",
    "However, this accuracy is not representative of how well the network is doing,\n",
    "because the network was *trained* on the data. The network had a chance to\n",
    "see the actual answer, and learn from that answer. To get a better sense of\n",
    "the network's predictive accuracy, we should compute accuracy numbers on\n",
    "a **test set**: a set of images that were not seen in training."
   ],
   "metadata": {
    "colab_type": "text",
    "id": "ZNozPD5XOk1L"
   }
  },
  {
   "cell_type": "markdown",
   "source": [
    "### 6)b) Validation of Network on Testing Data"
   ],
   "metadata": {
    "colab_type": "text",
    "id": "VplQogR24Aue"
   }
  },
  {
   "cell_type": "code",
   "execution_count": 36,
   "source": [
    "# computing the error and accuracy on a test set\n",
    "error = 0\n",
    "for (image, label) in mnist_train[1000:2000]:\n",
    "    prob = torch.sigmoid(pigeon(img_to_tensor(image)))\n",
    "    if (prob < 0.5 and label < 3) or (prob >= 0.5 and label >= 3):\n",
    "        error += 1\n",
    "print(\"Test Error Rate:\", error/1000)\n",
    "print(\"Test Accuracy:\", 1 - error/1000)"
   ],
   "outputs": [
    {
     "output_type": "stream",
     "name": "stdout",
     "text": [
      "Test Error Rate: 0.079\n",
      "Test Accuracy: 0.921\n"
     ]
    }
   ],
   "metadata": {
    "colab": {
     "base_uri": "https://localhost:8080/",
     "height": 51
    },
    "colab_type": "code",
    "id": "blrK9sxS4IX5",
    "outputId": "d6632712-ed0f-4145-8623-e936a6d5f6ee"
   }
  }
 ],
 "metadata": {
  "colab": {
   "collapsed_sections": [],
   "name": "Tutorial 1 - Artificial Pigeon Brain.ipynb",
   "provenance": []
  },
  "kernelspec": {
   "name": "python3",
   "display_name": "Python 3.8.8 64-bit ('base': conda)"
  },
  "language_info": {
   "codemirror_mode": {
    "name": "ipython",
    "version": 3
   },
   "file_extension": ".py",
   "mimetype": "text/x-python",
   "name": "python",
   "nbconvert_exporter": "python",
   "pygments_lexer": "ipython3",
   "version": "3.8.8"
  },
  "interpreter": {
   "hash": "003926430260187be2dcd9701a1f52b10c2b21594d33318491e66f7780e56ce3"
  }
 },
 "nbformat": 4,
 "nbformat_minor": 1
}